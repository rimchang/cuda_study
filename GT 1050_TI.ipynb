{
 "cells": [
  {
   "cell_type": "markdown",
   "metadata": {},
   "source": [
    "### GT 1050_TI\n",
    "\n",
    "SM : 6개\n",
    "SP : 768개\n",
    "최대 스레드 갯수 : SP x 4 = 3072\n",
    "한 블록당 SP 갯수 : 768/6 = 128\n",
    "한 블록당 최대 스레드 갯수 : 128 x 4 = 512"
   ]
  },
  {
   "cell_type": "code",
   "execution_count": 14,
   "metadata": {},
   "outputs": [
    {
     "data": {
      "text/plain": [
       "array([[  6072,   6138,   6204,   6270,   6336,   6402,   6468,   6534,\n",
       "          6600,   6666,   6732,   6798],\n",
       "       [ 15576,  15786,  15996,  16206,  16416,  16626,  16836,  17046,\n",
       "         17256,  17466,  17676,  17886],\n",
       "       [ 25080,  25434,  25788,  26142,  26496,  26850,  27204,  27558,\n",
       "         27912,  28266,  28620,  28974],\n",
       "       [ 34584,  35082,  35580,  36078,  36576,  37074,  37572,  38070,\n",
       "         38568,  39066,  39564,  40062],\n",
       "       [ 44088,  44730,  45372,  46014,  46656,  47298,  47940,  48582,\n",
       "         49224,  49866,  50508,  51150],\n",
       "       [ 53592,  54378,  55164,  55950,  56736,  57522,  58308,  59094,\n",
       "         59880,  60666,  61452,  62238],\n",
       "       [ 63096,  64026,  64956,  65886,  66816,  67746,  68676,  69606,\n",
       "         70536,  71466,  72396,  73326],\n",
       "       [ 72600,  73674,  74748,  75822,  76896,  77970,  79044,  80118,\n",
       "         81192,  82266,  83340,  84414],\n",
       "       [ 82104,  83322,  84540,  85758,  86976,  88194,  89412,  90630,\n",
       "         91848,  93066,  94284,  95502],\n",
       "       [ 91608,  92970,  94332,  95694,  97056,  98418,  99780, 101142,\n",
       "        102504, 103866, 105228, 106590],\n",
       "       [101112, 102618, 104124, 105630, 107136, 108642, 110148, 111654,\n",
       "        113160, 114666, 116172, 117678],\n",
       "       [110616, 112266, 113916, 115566, 117216, 118866, 120516, 122166,\n",
       "        123816, 125466, 127116, 128766]])"
      ]
     },
     "execution_count": 14,
     "metadata": {},
     "output_type": "execute_result"
    }
   ],
   "source": [
    "import numpy as np\n",
    "m=np.arange(144)\n",
    "m=m.reshape(12,12)\n",
    "n=np.arange(144)\n",
    "n=n.reshape(12,12)\n",
    "\n",
    "np.dot(m,n)"
   ]
  },
  {
   "cell_type": "code",
   "execution_count": 16,
   "metadata": {},
   "outputs": [
    {
     "data": {
      "text/plain": [
       "14000"
      ]
     },
     "execution_count": 16,
     "metadata": {},
     "output_type": "execute_result"
    }
   ],
   "source": [
    "70 * 200"
   ]
  },
  {
   "cell_type": "code",
   "execution_count": 18,
   "metadata": {},
   "outputs": [
    {
     "data": {
      "text/plain": [
       "0"
      ]
     },
     "execution_count": 18,
     "metadata": {},
     "output_type": "execute_result"
    }
   ],
   "source": [
    "3/4"
   ]
  }
 ],
 "metadata": {
  "kernelspec": {
   "display_name": "Python 2",
   "language": "python",
   "name": "python2"
  },
  "language_info": {
   "codemirror_mode": {
    "name": "ipython",
    "version": 2
   },
   "file_extension": ".py",
   "mimetype": "text/x-python",
   "name": "python",
   "nbconvert_exporter": "python",
   "pygments_lexer": "ipython2",
   "version": "2.7.12"
  }
 },
 "nbformat": 4,
 "nbformat_minor": 2
}
